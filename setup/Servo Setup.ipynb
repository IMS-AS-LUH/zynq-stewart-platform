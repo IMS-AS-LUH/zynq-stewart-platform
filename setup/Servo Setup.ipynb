{
 "cells": [
  {
   "cell_type": "code",
   "execution_count": null,
   "id": "c5341603",
   "metadata": {},
   "outputs": [],
   "source": [
    "import pynq\n",
    "from pynq.mmio import MMIO\n",
    "from pynq.lib.video import *\n",
    "\n",
    "import numpy as np\n",
    "\n",
    "import cv2\n",
    "\n",
    "import time\n",
    "\n",
    "import PIL.Image\n",
    "\n",
    "from stewart_controller import Stewart_Platform\n",
    "\n",
    "import math\n",
    "\n",
    "import collections\n",
    "\n",
    "from IPython.display import clear_output\n",
    "\n",
    "from stewart_controller import Stewart_Platform\n",
    "from ipywidgets import interact, interactive, widgets, fixed\n",
    "import numpy as np\n",
    "\n",
    "from const import *\n",
    "from servo import map_servo_pwm_signal, radian_to_pwm\n",
    "from pipelineOverlay import PipelineOverlay"
   ]
  },
  {
   "cell_type": "code",
   "execution_count": 2,
   "id": "17e35d6c",
   "metadata": {},
   "outputs": [],
   "source": [
    "# Load Base Overlay\n",
    "base = PipelineOverlay(\"/home/xilinx/jupyter_notebooks/bit_files/top_level.bit\")"
   ]
  },
  {
   "cell_type": "code",
   "execution_count": 3,
   "id": "00ab181c",
   "metadata": {
    "scrolled": true
   },
   "outputs": [],
   "source": [
    "# Array for storing the last set servo values\n",
    "servo_values = [0 for x in range(0,6)]"
   ]
  },
  {
   "cell_type": "markdown",
   "id": "fefae2c4",
   "metadata": {},
   "source": [
    "# Servo Calibration\n",
    "\n",
    "This script generates one slider for each servo. Check if each number corresponds to the correct output of the board. If the servos are not in sequential order on the platform, then you need to set `servo_reorder_map` in the `servo.py`. This will not effect this script but is needed for the platform later, because the reverse Kinematic will return a list of angles which is ordered for a sequential order of servos around the platform.\n",
    "\n",
    "To calibrate the servos use the sliders to point their arms to -90° and +90° and note the values at these points. The arm is at 0° when it is laying flat in the x direction. Write these values into the `servo_limits` array in `servo.py`. "
   ]
  },
  {
   "cell_type": "code",
   "execution_count": null,
   "id": "3759c88e",
   "metadata": {},
   "outputs": [],
   "source": [
    "from ipywidgets import interact, interactive, widgets, fixed\n",
    "import numpy as np\n",
    "\n",
    "radian = False\n",
    "\n",
    "# 0 = 610, 2530\n",
    "# 1 = 460, 2390\n",
    "# 2 = 540, 2390\n",
    "# 3 = 600, 2560\n",
    "# 4 = 380, 2320\n",
    "# 5 = 480, 2400\n",
    "result = [\n",
    "    [540, 2390],\n",
    "    [600, 2560],\n",
    "    [610, 2530],\n",
    "    [460, 2390],\n",
    "    [480, 2400],\n",
    "    [380, 2320],\n",
    "]\n",
    "\n",
    "def set_servo(set_point, servo):\n",
    "    \"\"\"\n",
    "        This function sets a single servo position. \n",
    "    \"\"\"\n",
    "    if radian:\n",
    "        pwm = radian_to_pwm(set_point, servo, result)\n",
    "    else:\n",
    "        pwm = int(set_point)\n",
    "    \n",
    "    # pwm = map_servo_pwm_signal(servo, pwm, result)\n",
    "    \n",
    "    base.pwm_controller_set(servo, pwm) \n",
    "    base.pwm_controller_commit()\n",
    "    servo_values[servo] = pwm\n",
    "    return pwm\n",
    "\n",
    "for i in range(0, 6):\n",
    "    min_value = 0\n",
    "    max_value = 6000\n",
    "    step = 10\n",
    "    value = servo_values[i]\n",
    "    if radian:\n",
    "        min_value = -np.pi/2\n",
    "        max_value = np.pi/2\n",
    "        step = 0.1\n",
    "        value = 0\n",
    "        \n",
    "    interact(\n",
    "        set_servo,\n",
    "        servo=fixed(i),\n",
    "        set_point=widgets.FloatSlider(\n",
    "            min=min_value,\n",
    "            max=max_value,\n",
    "            value=value,\n",
    "            step=step,\n",
    "            description=f\"Servo {i}\",\n",
    "            continuous_update=True,\n",
    "        )\n",
    "    )"
   ]
  }
 ],
 "metadata": {
  "kernelspec": {
   "display_name": "Python 3 (ipykernel)",
   "language": "python",
   "name": "python3"
  },
  "language_info": {
   "codemirror_mode": {
    "name": "ipython",
    "version": 3
   },
   "file_extension": ".py",
   "mimetype": "text/x-python",
   "name": "python",
   "nbconvert_exporter": "python",
   "pygments_lexer": "ipython3",
   "version": "3.10.4"
  }
 },
 "nbformat": 4,
 "nbformat_minor": 5
}
